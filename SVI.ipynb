{
 "cells": [
  {
   "cell_type": "markdown",
   "id": "69bd9e64-3337-42aa-a9e9-75ac1cf908a8",
   "metadata": {},
   "source": [
    "# Towards understanding the Stochastic Variational Inference paper\n",
    "\n",
    "I think I have spotted a bug in the derivation of the objective. Here I argue that the objective is missing the term: \n",
    "\n",
    "$$\n",
    "\\mathbb{E}_{q}[ln(h(\\beta))]\n",
    "$$\n",
    "\n",
    "This term depends on the variational parameter $\\lambda$. To see this, consider the case where $q(\\beta|\\lambda)$ is a [gaussian distribution with known variance](https://en.wikipedia.org/wiki/Exponential_family#Normal_distribution:_unknown_mean,_known_variance). Hence, the term $\\lambda$ is stand-in for $\\mu$, the mean. \n",
    "\n",
    "The expectation term above expands out to the following:"
   ]
  },
  {
   "cell_type": "code",
   "execution_count": 1,
   "id": "ff9e287f-84c4-4a13-be91-ec0c1db54d19",
   "metadata": {},
   "outputs": [
    {
     "data": {
      "image/png": "[encoded data removed]",
      "text/latex": [
       "$\\displaystyle \\int\\limits_{-\\infty}^{\\infty} C_{1} e^{- \\frac{x^{2}}{2 \\sigma^{2}}} e^{- \\frac{\\mu^{2}}{2 \\sigma^{2}} + \\frac{\\mu x}{\\sigma^{2}}} \\log{\\left(C_{1} e^{- \\frac{x^{2}}{2 \\sigma^{2}}} \\right)}\\, dx$"
      ],
      "text/plain": [
       "∞                                         \n",
       "⌠                                         \n",
       "⎮        2       2           ⎛      2 ⎞   \n",
       "⎮      -x       μ     μ⋅x    ⎜    -x  ⎟   \n",
       "⎮      ────  - ──── + ───    ⎜    ────⎟   \n",
       "⎮         2       2     2    ⎜       2⎟   \n",
       "⎮      2⋅σ     2⋅σ     σ     ⎜    2⋅σ ⎟   \n",
       "⎮  C₁⋅ℯ    ⋅ℯ            ⋅log⎝C₁⋅ℯ    ⎠ dx\n",
       "⌡                                         \n",
       "-∞                                        "
      ]
     },
     "execution_count": 1,
     "metadata": {},
     "output_type": "execute_result"
    }
   ],
   "source": [
    "from sympy import *\n",
    "init_printing()\n",
    "\n",
    "var('sigma C1 C2 C3 C4 C5 mu x')\n",
    "delta = Function('delta')\n",
    "\n",
    "h_ = exp(- (x ** 2) / (2 * sigma ** 2))\n",
    "h = C1 * h_\n",
    "t = x / sigma\n",
    "a = mu ** 2 / (2 * sigma ** 2)\n",
    "n = mu / sigma\n",
    "\n",
    "I = h * log(h) * exp(n * t - a)\n",
    "Integral(I, (x, -oo, oo))"
   ]
  },
  {
   "cell_type": "markdown",
   "id": "50c25401-d848-4bec-8d5c-264e69bf00a8",
   "metadata": {},
   "source": [
    "I rewrite this integral in simpler terms, arbitrarily labelling constants that don't depend on $\\mu$."
   ]
  },
  {
   "cell_type": "code",
   "execution_count": 2,
   "id": "c0336c9d-100a-4825-8315-8f0d17ac8eba",
   "metadata": {},
   "outputs": [
    {
     "data": {
      "image/png": "[encoded data removed]",
      "text/latex": [
       "$\\displaystyle C_{3} + C_{4} \\int\\limits_{-\\infty}^{\\infty} x^{2} e^{- \\frac{x^{2}}{2 \\sigma^{2}}} e^{- \\frac{\\mu^{2}}{2 \\sigma^{2}} + \\frac{\\mu x}{\\sigma^{2}}}\\, dx$"
      ],
      "text/plain": [
       "        ∞                           \n",
       "        ⌠                           \n",
       "        ⎮        2       2          \n",
       "        ⎮      -x       μ     μ⋅x   \n",
       "        ⎮      ────  - ──── + ───   \n",
       "        ⎮         2       2     2   \n",
       "        ⎮   2  2⋅σ     2⋅σ     σ    \n",
       "C₃ + C₄⋅⎮  x ⋅ℯ    ⋅ℯ             dx\n",
       "        ⌡                           \n",
       "        -∞                          "
      ]
     },
     "execution_count": 2,
     "metadata": {},
     "output_type": "execute_result"
    }
   ],
   "source": [
    "expr = C3 + C4 * Integral(h_ * exp(n * t - a) * (x ** 2), (x, -oo, oo))\n",
    "expr"
   ]
  },
  {
   "cell_type": "code",
   "execution_count": 3,
   "id": "70019273-b9a6-47dd-bebc-e958a337e5a8",
   "metadata": {},
   "outputs": [
    {
     "data": {
      "image/png": "[encoded data removed]",
      "text/latex": [
       "$\\displaystyle C_{3} + C_{4} \\int\\limits_{-\\infty}^{\\infty} x^{2} e^{- \\frac{\\left(- \\mu + x\\right)^{2}}{2 \\sigma^{2}}}\\, dx$"
      ],
      "text/plain": [
       "        ∞                    \n",
       "        ⌠                    \n",
       "        ⎮               2    \n",
       "        ⎮      -(-μ + x)     \n",
       "        ⎮      ───────────   \n",
       "        ⎮             2      \n",
       "        ⎮   2      2⋅σ       \n",
       "C₃ + C₄⋅⎮  x ⋅ℯ            dx\n",
       "        ⌡                    \n",
       "        -∞                   "
      ]
     },
     "execution_count": 3,
     "metadata": {},
     "output_type": "execute_result"
    }
   ],
   "source": [
    "expr = C3 + C4 * Integral(x ** 2 * exp(-(x - mu) ** 2 / (2 * sigma ** 2)), (x, -oo, oo))\n",
    "expr"
   ]
  },
  {
   "cell_type": "markdown",
   "id": "6439d824-b35e-443e-bad3-a324d08cff0a",
   "metadata": {},
   "source": [
    "Now, notice that that the choice of $\\sigma$ is up to us in order to construct an example where the expectation term depends on $\\mu$. In particular, we can use a very small value for $\\sigma$ such that the function:\n",
    "\n",
    "$$\n",
    "e^{-\\frac{(x - \\mu)^2}{2 \\sigma^2}} \\approx \\delta(x - \\mu)\n",
    "$$\n",
    "\n",
    "Where $\\delta(x - \\mu)$ is proportional to the [Dirac-Delta Function](https://en.wikipedia.org/wiki/Dirac_delta_function). In this case, our expression becomes "
   ]
  },
  {
   "cell_type": "code",
   "execution_count": 4,
   "id": "dff785b3-60c7-41a8-a8d1-08c97c07d8d8",
   "metadata": {},
   "outputs": [
    {
     "data": {
      "image/png": "[encoded data removed]",
      "text/latex": [
       "$\\displaystyle C_{3} + C_{4} \\int\\limits_{-\\infty}^{\\infty} x^{2} \\delta{\\left(- \\mu + x \\right)}\\, dx$"
      ],
      "text/plain": [
       "        ∞                 \n",
       "        ⌠                 \n",
       "        ⎮   2             \n",
       "C₃ + C₄⋅⎮  x ⋅δ(-μ + x) dx\n",
       "        ⌡                 \n",
       "        -∞                "
      ]
     },
     "execution_count": 4,
     "metadata": {},
     "output_type": "execute_result"
    }
   ],
   "source": [
    "C3 + C4 * Integral(x ** 2 * delta(x - mu), (x, -oo, oo))"
   ]
  },
  {
   "cell_type": "markdown",
   "id": "e6a5dd40-81a0-4a8d-9798-ba403b2d693c",
   "metadata": {},
   "source": [
    "This simplifies to"
   ]
  },
  {
   "cell_type": "code",
   "execution_count": 5,
   "id": "38a50916-a9b5-4209-abf2-c3ad51d2cc24",
   "metadata": {},
   "outputs": [
    {
     "data": {
      "image/png": "[encoded data removed]",
      "text/latex": [
       "$\\displaystyle C_{3} + C_{4} \\mu^{2}$"
      ],
      "text/plain": [
       "         2\n",
       "C₃ + C₄⋅μ "
      ]
     },
     "execution_count": 5,
     "metadata": {},
     "output_type": "execute_result"
    }
   ],
   "source": [
    "C3 + C4 * mu ** 2"
   ]
  },
  {
   "cell_type": "markdown",
   "id": "5501df24-2762-4dec-bb0f-4b0dc99be1e1",
   "metadata": {},
   "source": [
    "Thus illustrating that it's not necessary that the term is constant with respect to the variational parameter."
   ]
  }
 ],
 "metadata": {
  "kernelspec": {
   "display_name": "Python 3 (ipykernel)",
   "language": "python",
   "name": "python3"
  },
  "language_info": {
   "codemirror_mode": {
    "name": "ipython",
    "version": 3
   },
   "file_extension": ".py",
   "mimetype": "text/x-python",
   "name": "python",
   "nbconvert_exporter": "python",
   "pygments_lexer": "ipython3",
   "version": "3.9.12"
  }
 },
 "nbformat": 4,
 "nbformat_minor": 5
}
